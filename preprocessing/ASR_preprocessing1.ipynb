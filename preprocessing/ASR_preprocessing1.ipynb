{
  "nbformat": 4,
  "nbformat_minor": 0,
  "metadata": {
    "colab": {
      "provenance": [],
      "gpuType": "T4"
    },
    "kernelspec": {
      "name": "python3",
      "display_name": "Python 3"
    },
    "language_info": {
      "name": "python"
    },
    "accelerator": "GPU"
  },
  "cells": [
    {
      "cell_type": "code",
      "source": [
        "\n",
        "!apt-get -y install ffmpeg\n",
        "!pip install --quiet pydub tqdm pandas\n",
        "from google.colab import drive\n",
        "drive.mount('/content/drive')\n",
        "from pathlib import Path\n",
        "import tarfile, pandas as pd\n",
        "from pydub import AudioSegment, silence\n",
        "from tqdm import tqdm\n",
        "\n"
      ],
      "metadata": {
        "colab": {
          "base_uri": "https://localhost:8080/"
        },
        "id": "HUJWsegX7kPr",
        "outputId": "16d22ee1-a744-4241-913c-ef555dd9c7a1"
      },
      "execution_count": null,
      "outputs": [
        {
          "output_type": "stream",
          "name": "stdout",
          "text": [
            "Reading package lists... Done\n",
            "Building dependency tree... Done\n",
            "Reading state information... Done\n",
            "ffmpeg is already the newest version (7:4.4.2-0ubuntu0.22.04.1).\n",
            "0 upgraded, 0 newly installed, 0 to remove and 34 not upgraded.\n",
            "Drive already mounted at /content/drive; to attempt to forcibly remount, call drive.mount(\"/content/drive\", force_remount=True).\n"
          ]
        }
      ]
    },
    {
      "cell_type": "code",
      "source": [
        "ARCHIVE_PATH = Path(\"/content/drive/MyDrive/cv-corpus-14.0-delta-2023-06-23-sw.tar.gz\")\n",
        "EXTRACT_DIR  = Path(\"common_voice_sw\")\n",
        "OUTPUT_WAVS  = Path(\"cleaned_sw_audio\")\n",
        "MANIFEST_CSV = Path(\"manifest_sw.csv\")\n",
        "TARGET_SR    = 16_000\n",
        "SIL_THRESH   = -40\n",
        "MIN_MS       = 200\n",
        "\n",
        "EXTRACT_DIR.mkdir(exist_ok=True)\n",
        "OUTPUT_WAVS.mkdir(exist_ok=True)\n",
        "\n",
        "# get tsv/clips\n",
        "with tarfile.open(ARCHIVE_PATH, \"r:gz\") as tar:\n",
        "    members = [m for m in tar.getmembers() if m.name.endswith(\"sw/validated.tsv\") or m.name.endswith(\".mp3\")]\n",
        "    tar.extractall(path=EXTRACT_DIR, members=members)\n",
        "\n",
        "tsv_path = next(EXTRACT_DIR.rglob(\"validated.tsv\"))\n",
        "df = pd.read_csv(tsv_path, sep=\"\\t\")"
      ],
      "metadata": {
        "id": "4IvI9u1Y07yV",
        "collapsed": true
      },
      "execution_count": null,
      "outputs": []
    },
    {
      "cell_type": "code",
      "source": [
        "\n",
        "\n",
        "rows = []\n",
        "for _, row in tqdm(df.iterrows(), total=len(df), desc=\"processing audio\"):\n",
        "    mp3_abs = EXTRACT_DIR / f\"cv-corpus-14.0-delta-2023-06-23/sw/clips/{row['path']}\"\n",
        "    if not mp3_abs.exists():\n",
        "        continue\n",
        "\n",
        "    try:\n",
        "        audio = AudioSegment.from_file(mp3_abs, format=\"mp3\")\n",
        "    except Exception as e:\n",
        "        print(\" invalid file:\", mp3_abs.name, e)\n",
        "        continue\n",
        "\n",
        "    #trim leading/silence\n",
        "    chunks = silence.split_on_silence(audio, silence_thresh=SIL_THRESH, min_silence_len=150)\n",
        "    if chunks:\n",
        "        audio = sum(chunks)\n",
        "\n",
        "    if len(audio) < MIN_MS:\n",
        "        continue\n",
        "\n",
        "    #resample\n",
        "    audio = audio.set_frame_rate(TARGET_SR).set_channels(1)\n",
        "\n",
        "    #export\n",
        "    wav_name = row[\"path\"].replace(\".mp3\", \".wav\")\n",
        "    wav_out  = OUTPUT_WAVS / wav_name\n",
        "    wav_out.parent.mkdir(parents=True, exist_ok=True)\n",
        "    audio.export(wav_out, format=\"wav\")\n",
        "\n",
        "    rows.append({\n",
        "        \"wav_path\"  : str(wav_out.resolve()),\n",
        "        \"duration\"  : len(audio) / 1000.0,\n",
        "        \"transcript\": row[\"sentence\"]\n",
        "    })\n",
        "\n",
        "#manifest\n",
        "pd.DataFrame(rows).to_csv(MANIFEST_CSV, index=False)\n",
        "print(f\"\\n kept {len(rows):,} clips.\")\n",
        "print(\"   wavs: \", OUTPUT_WAVS.resolve())\n",
        "print(\"   csv: \", MANIFEST_CSV.resolve())\n"
      ],
      "metadata": {
        "id": "aNLRybj11AFi",
        "colab": {
          "base_uri": "https://localhost:8080/"
        },
        "outputId": "91c540fa-b4a3-48d7-88f0-9be7f8ed3ef1"
      },
      "execution_count": null,
      "outputs": [
        {
          "output_type": "stream",
          "name": "stderr",
          "text": [
            "Processing audio:  86%|████████▋ | 233/270 [01:09<00:09,  3.75it/s]"
          ]
        }
      ]
    }
  ]
}